{
 "cells": [
  {
   "cell_type": "code",
   "execution_count": null,
   "id": "lasting-literacy",
   "metadata": {},
   "outputs": [],
   "source": [
    "#https://docs.microsoft.com/en-us/azure/machine-learning/how-to-deploy-pipelines"
   ]
  },
  {
   "cell_type": "code",
   "execution_count": null,
   "id": "departmental-diagnosis",
   "metadata": {},
   "outputs": [],
   "source": [
    "import azureml.core\n",
    "from azureml.core import Workspace, Datastore\n",
    "from azureml.data import OutputFileDatasetConfig\n",
    "\n",
    "\n",
    "ws = Workspace(subscription_id = '6ed9d167-b2e6-41b8-9500-35e6df64d9dc',\n",
    "                resource_group = 'MLRG',\n",
    "                workspace_name = 'erbbimlws'\n",
    "              )"
   ]
  },
  {
   "cell_type": "code",
   "execution_count": null,
   "id": "interested-region",
   "metadata": {},
   "outputs": [],
   "source": [
    "from azureml.core.compute import ComputeTarget, AmlCompute"
   ]
  },
  {
   "cell_type": "code",
   "execution_count": null,
   "id": "prescribed-flavor",
   "metadata": {},
   "outputs": [],
   "source": [
    "from azureml.pipeline.core.graph import PipelineParameter\n",
    "\n",
    "pipeline_param = PipelineParameter(\n",
    "  name=\"pipeline_arg\",\n",
    "  default_value=10)"
   ]
  },
  {
   "cell_type": "code",
   "execution_count": null,
   "id": "advisory-violin",
   "metadata": {},
   "outputs": [],
   "source": [
    "compute_name = \"vkontogCompute\""
   ]
  },
  {
   "cell_type": "code",
   "execution_count": null,
   "id": "billion-capture",
   "metadata": {},
   "outputs": [],
   "source": [
    "# Default datastore \n",
    "datastore= Datastore(ws, \"workspaceblobstore\")\n",
    "#datastore= Datastore(ws, \"workspacefilestore\")"
   ]
  },
  {
   "cell_type": "code",
   "execution_count": null,
   "id": "seeing-amateur",
   "metadata": {},
   "outputs": [],
   "source": [
    "if compute_name in ws.compute_targets:\n",
    "    compute_target = ws.compute_targets[compute_name]\n",
    "    if compute_target and type(compute_target) is AmlCompute:\n",
    "        print('Found compute target: ' + compute_name)\n",
    "else:\n",
    "    print('Please set up a proper compute')\n"
   ]
  },
  {
   "cell_type": "code",
   "execution_count": null,
   "id": "czech-meter",
   "metadata": {},
   "outputs": [],
   "source": [
    "from azureml.core.runconfig import RunConfiguration\n",
    "from azureml.core.conda_dependencies import CondaDependencies\n",
    "from azureml.core import Environment \n",
    "\n",
    "\n",
    "aml_run_config = RunConfiguration()\n",
    "# Use just-specified compute target (\"cpu-cluster\")\n",
    "aml_run_config.target = compute_target"
   ]
  },
  {
   "cell_type": "code",
   "execution_count": null,
   "id": "electronic-philosophy",
   "metadata": {},
   "outputs": [],
   "source": [
    "aml_run_config.environment.python.conda_dependencies = CondaDependencies.create(\n",
    "    conda_packages=['pandas','scikit-learn'], \n",
    "    pip_packages=['azureml-sdk', 'azureml-dataset-runtime[fuse,pandas]',' pyarrow','openpyxl','xlrd','spacy'], \n",
    "    pin_sdk_version=False)\n",
    "\n"
   ]
  },
  {
   "cell_type": "code",
   "execution_count": null,
   "id": "arabic-nomination",
   "metadata": {},
   "outputs": [],
   "source": [
    "output_data = OutputFileDatasetConfig(destination = (datastore, 'UI/NPL/tokens'))\n",
    "output_data_dataset = output_data.register_on_complete(name = 'exported_tokens')"
   ]
  },
  {
   "cell_type": "code",
   "execution_count": null,
   "id": "armed-robin",
   "metadata": {},
   "outputs": [],
   "source": [
    "from azureml.data import OutputFileDatasetConfig\n",
    "from azureml.pipeline.steps import PythonScriptStep\n",
    "\n",
    "#dataprep_step0 = PythonScriptStep(\n",
    "#    name=\"Spacy_NLP_v0\", \n",
    "#    script_name=\"./Text_Mining_withSpacy/pipTest.py\", \n",
    "#    compute_target=compute_target, \n",
    "#    runconfig=aml_run_config,\n",
    "#    allow_reuse=True\n",
    "#)\n",
    "\n",
    "dataprep_step1 = PythonScriptStep(\n",
    "    name=\"Spacy_NLP_v1\", \n",
    "    script_name=\"./Text_Mining_withSpacy/Spacy_NLP_on_LinkComments_v5.py\", \n",
    "    compute_target=compute_target, \n",
    "    runconfig=aml_run_config,\n",
    "    allow_reuse=False,\n",
    "    arguments=[ \"--param1\", pipeline_param,\"--ws\",ws]\n",
    "    )"
   ]
  },
  {
   "cell_type": "code",
   "execution_count": null,
   "id": "together-liabilities",
   "metadata": {},
   "outputs": [],
   "source": [
    "from azureml.pipeline.core import Pipeline\n",
    "from azureml.core import Experiment\n",
    "\n",
    "pipeline = Pipeline(ws, [dataprep_step1])\n",
    "\n",
    "experiment = Experiment(workspace=ws, name='Link_Comments')\n",
    "\n",
    "azureml._restclient.snapshots_client.SNAPSHOT_MAX_SIZE_BYTES = 1000000000\n",
    "\n",
    "run = experiment.submit(pipeline, show_output=True)\n",
    "run.wait_for_completion()"
   ]
  },
  {
   "cell_type": "code",
   "execution_count": null,
   "id": "large-accident",
   "metadata": {},
   "outputs": [],
   "source": [
    "published_pipeline = run.publish_pipeline(\n",
    "     name=\"NLP_Pipeline\",\n",
    "     description=\"Daily NLP pipeline\",\n",
    "     version=\"1.0\")"
   ]
  },
  {
   "cell_type": "code",
   "execution_count": null,
   "id": "earlier-minority",
   "metadata": {},
   "outputs": [],
   "source": [
    "#from azureml.core.authentication import InteractiveLoginAuthentication\n",
    "\n",
    "#interactive_auth = InteractiveLoginAuthentication()\n",
    "#auth_header = interactive_auth.get_authentication_header()"
   ]
  }
 ],
 "metadata": {
  "kernelspec": {
   "display_name": "Python 3.6 - AzureML",
   "language": "python",
   "name": "python3-azureml"
  },
  "language_info": {
   "codemirror_mode": {
    "name": "ipython",
    "version": 3
   },
   "file_extension": ".py",
   "mimetype": "text/x-python",
   "name": "python",
   "nbconvert_exporter": "python",
   "pygments_lexer": "ipython3",
   "version": "3.6.9"
  }
 },
 "nbformat": 4,
 "nbformat_minor": 5
}
