{
 "cells": [
  {
   "cell_type": "code",
   "execution_count": null,
   "id": "preliminary-garlic",
   "metadata": {},
   "outputs": [],
   "source": [
    "#https://docs.microsoft.com/en-us/azure/machine-learning/how-to-trigger-published-pipeline"
   ]
  },
  {
   "cell_type": "code",
   "execution_count": null,
   "id": "human-framework",
   "metadata": {},
   "outputs": [],
   "source": [
    "import azureml.core\n",
    "from azureml.core import Workspace\n",
    "from azureml.pipeline.core import Pipeline, PublishedPipeline\n",
    "from azureml.core.experiment import Experiment\n",
    "\n",
    "ws = Workspace.from_config()\n",
    "\n",
    "experiments = Experiment.list(ws)\n",
    "for experiment in experiments:\n",
    "    print(experiment.name)\n",
    "\n",
    "published_pipelines = PublishedPipeline.list(ws)\n",
    "for published_pipeline in  published_pipelines:\n",
    "    print(f\"{published_pipeline.name},'{published_pipeline.id}'\")\n",
    "\n",
    "experiment_name = \"Link_Comments\" \n",
    "pipeline_id = \"b84ca593-429e-400f-abf2-10d245323128\" "
   ]
  },
  {
   "cell_type": "code",
   "execution_count": null,
   "id": "greatest-proxy",
   "metadata": {},
   "outputs": [],
   "source": [
    "from azureml.pipeline.core.schedule import ScheduleRecurrence, Schedule\n",
    "\n",
    "recurrence = ScheduleRecurrence(frequency=\"Hour\", interval=1)\n",
    "recurring_schedule = Schedule.create(ws, name=\"NLPRecurringSchedule\", \n",
    "                            description=\"Based on time\",\n",
    "                            pipeline_id=pipeline_id, \n",
    "                            experiment_name=experiment_name, \n",
    "                            recurrence=recurrence)"
   ]
  },
  {
   "cell_type": "code",
   "execution_count": null,
   "id": "stable-producer",
   "metadata": {},
   "outputs": [],
   "source": [
    "ss = Schedule.list(ws)\n",
    "for s in ss:\n",
    "    print(s)"
   ]
  },
  {
   "cell_type": "code",
   "execution_count": null,
   "id": "norman-fusion",
   "metadata": {},
   "outputs": [],
   "source": [
    "schedule_id = '13a10c2d-5ba2-45d3-a8bd-b00c949e9a8c'\n",
    "\n",
    "def stop_by_schedule_id(ws, schedule_id):\n",
    "    s = next(s for s in Schedule.list(ws) if s.id == schedule_id)\n",
    "    s.disable()\n",
    "    return s\n",
    "\n",
    "stop_by_schedule_id(ws, schedule_id)"
   ]
  }
 ],
 "metadata": {
  "kernelspec": {
   "display_name": "Python 3.6 - AzureML",
   "language": "python",
   "name": "python3-azureml"
  },
  "language_info": {
   "codemirror_mode": {
    "name": "ipython",
    "version": 3
   },
   "file_extension": ".py",
   "mimetype": "text/x-python",
   "name": "python",
   "nbconvert_exporter": "python",
   "pygments_lexer": "ipython3",
   "version": "3.6.9"
  }
 },
 "nbformat": 4,
 "nbformat_minor": 5
}
